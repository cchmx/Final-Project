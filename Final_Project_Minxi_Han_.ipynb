{
  "nbformat": 4,
  "nbformat_minor": 0,
  "metadata": {
    "colab": {
      "name": " Final Project Minxi Han .ipynb",
      "provenance": [],
      "collapsed_sections": [],
      "toc_visible": true
    },
    "kernelspec": {
      "name": "python3",
      "display_name": "Python 3"
    },
    "language_info": {
      "name": "python"
    }
  },
  "cells": [
    {
      "cell_type": "markdown",
      "metadata": {
        "id": "HLZ91mmvMQyl"
      },
      "source": [
        "## **Machine Learning Final Project DUE: Friday May 7th 11:59pm**\n",
        "\n",
        "**Note: Please read all the instructions carefully before starting the project.**\n",
        "\n",
        "For your final project you will build an ML model to analyze a dataset of your choice. You are welcome to keep working on the data in your EDA project if your data is large enough (at least 1000 rows for simple models and at least 10,000 for more complex models) or you can choose from the datasets/project suggestions below.\n",
        "\n",
        "In this project make sure that you:\n",
        "- Have a large enough dataset\n",
        "- Split your data in training and testing\n",
        "- Explore your data to inform which type of model to choose (no need if you are using your EDA dataset)\n",
        "- Try different models on your training dataset - then select the most promising model\n",
        "- Use cross validation to fine tune the model’s parameters such as alpha in lasso\n",
        "- Simplify your model using regularization, prunnning, drop-out, etc. to avoid overfitting\n",
        "- Communicate your model’s performance and make sure you compare it to a benchmark when appropriate\n",
        "- Plot interesting graphs and results\n",
        "- Write and publish your article to medium\n",
        "- Commit your code to your GitHub\n",
        "\n",
        "Please ensure you handle all the preprocessing before the modeling.\n",
        "\n",
        "Suggestions for project:\n",
        "You can take a look at the resources given below for choosing a dataset for your project. \n",
        "\n",
        "- Traffic sign detection - https://benchmark.ini.rub.de/gtsdb_dataset.html\n",
        "- Cat and dog classifier - https://www.kaggle.com/c/dogs-vs-cats/data\n",
        "- Other datasets from Kaggle - https://www.kaggle.com/data/41592"
      ]
    },
    {
      "cell_type": "markdown",
      "metadata": {
        "id": "mirWm3dBPv90"
      },
      "source": [
        "## **Grading Criteria**\n",
        "\n",
        "- Show clear exploration of the data to justify model choice\n",
        "- Train mutliple models and clearly articulate why you chose your final model\n",
        "- Show your performance on test dataset\n",
        "- Clear and concise write-up with clear well-documented figures\n",
        "- Commit your code to GitHub"
      ]
    },
    {
      "cell_type": "markdown",
      "metadata": {
        "id": "4ZRNqxFcP4wx"
      },
      "source": [
        "## **Submission Details**\n",
        "\n",
        "This is an individual assignment. You may not work in groups. The assignment is due on Friday (05/07/2021)\n",
        "- To submit your assignment, download your notebook and the dataset, zip the dataset and notebook, and submit the zipped file on blackboard.\n",
        "- Make sure the notebook is named in the format - Final_LastName_FirstName. If you are submitting a zipped file, please name the file as well in the same format.\n",
        "- Please include the link to access your blog and your github repo in your notebook.\n",
        "- Also include the link to your notebook, github repo and the blog in the submission on blackboard. Please ensure the TAs have the required access to your notebooks and the github repo.\n",
        "\n",
        "**Note - If the dataset is too large to be zipped and submitted on blackboard, only submit your notebook, add your dataset to your google drive and share a link to the file in your notebook.**"
      ]
    },
    {
      "cell_type": "code",
      "metadata": {
        "id": "ZzWRBLl6MImY"
      },
      "source": [
        "# Start solution here\n",
        "import pandas as pd \n",
        "from scipy.stats import ttest_ind \n",
        "from scipy.stats import probplot \n",
        "import matplotlib.pyplot as plt \n",
        "import os\n",
        "import pylab \n",
        "input_path = 'cereal.csv'\n",
        "for dirpath, dirname, filenames in os.walk(input_path):\n",
        "    for name in filenames:\n",
        "        print (os.path.join(dirpath , name))\n",
        "fname = 'cereal.csv'\n",
        "cereal_df = pd.read_csv('cereal.csv')"
      ],
      "execution_count": null,
      "outputs": []
    },
    {
      "cell_type": "code",
      "metadata": {
        "id": "lP1rq7hlb9gn",
        "colab": {
          "base_uri": "https://localhost:8080/"
        },
        "outputId": "b21144b4-b013-49ae-97a7-a64e7c56323e"
      },
      "source": [
        "cereal_df.shape"
      ],
      "execution_count": null,
      "outputs": [
        {
          "output_type": "execute_result",
          "data": {
            "text/plain": [
              "(77, 16)"
            ]
          },
          "metadata": {
            "tags": []
          },
          "execution_count": 13
        }
      ]
    },
    {
      "cell_type": "code",
      "metadata": {
        "id": "racusgEHb_Sh",
        "colab": {
          "base_uri": "https://localhost:8080/"
        },
        "outputId": "ff7db789-6c19-4d67-8efd-bed23175ea53"
      },
      "source": [
        "cereal_df.info()"
      ],
      "execution_count": null,
      "outputs": [
        {
          "output_type": "stream",
          "text": [
            "<class 'pandas.core.frame.DataFrame'>\n",
            "RangeIndex: 77 entries, 0 to 76\n",
            "Data columns (total 16 columns):\n",
            " #   Column    Non-Null Count  Dtype  \n",
            "---  ------    --------------  -----  \n",
            " 0   name      77 non-null     object \n",
            " 1   mfr       77 non-null     object \n",
            " 2   type      77 non-null     object \n",
            " 3   calories  77 non-null     int64  \n",
            " 4   protein   77 non-null     int64  \n",
            " 5   fat       77 non-null     int64  \n",
            " 6   sodium    77 non-null     int64  \n",
            " 7   fiber     77 non-null     float64\n",
            " 8   carbo     77 non-null     float64\n",
            " 9   sugars    77 non-null     int64  \n",
            " 10  potass    77 non-null     int64  \n",
            " 11  vitamins  77 non-null     int64  \n",
            " 12  shelf     77 non-null     int64  \n",
            " 13  weight    77 non-null     float64\n",
            " 14  cups      77 non-null     float64\n",
            " 15  rating    77 non-null     float64\n",
            "dtypes: float64(5), int64(8), object(3)\n",
            "memory usage: 9.8+ KB\n"
          ],
          "name": "stdout"
        }
      ]
    },
    {
      "cell_type": "code",
      "metadata": {
        "id": "-zFoPpaKcBts",
        "colab": {
          "base_uri": "https://localhost:8080/",
          "height": 275
        },
        "outputId": "d950c7a4-8ffe-4da2-a4ff-c94cd294dd94"
      },
      "source": [
        "cereal_df.head()\n",
        "cereal_df.tail()"
      ],
      "execution_count": null,
      "outputs": [
        {
          "output_type": "execute_result",
          "data": {
            "text/html": [
              "<div>\n",
              "<style scoped>\n",
              "    .dataframe tbody tr th:only-of-type {\n",
              "        vertical-align: middle;\n",
              "    }\n",
              "\n",
              "    .dataframe tbody tr th {\n",
              "        vertical-align: top;\n",
              "    }\n",
              "\n",
              "    .dataframe thead th {\n",
              "        text-align: right;\n",
              "    }\n",
              "</style>\n",
              "<table border=\"1\" class=\"dataframe\">\n",
              "  <thead>\n",
              "    <tr style=\"text-align: right;\">\n",
              "      <th></th>\n",
              "      <th>name</th>\n",
              "      <th>mfr</th>\n",
              "      <th>type</th>\n",
              "      <th>calories</th>\n",
              "      <th>protein</th>\n",
              "      <th>fat</th>\n",
              "      <th>sodium</th>\n",
              "      <th>fiber</th>\n",
              "      <th>carbo</th>\n",
              "      <th>sugars</th>\n",
              "      <th>potass</th>\n",
              "      <th>vitamins</th>\n",
              "      <th>shelf</th>\n",
              "      <th>weight</th>\n",
              "      <th>cups</th>\n",
              "      <th>rating</th>\n",
              "    </tr>\n",
              "  </thead>\n",
              "  <tbody>\n",
              "    <tr>\n",
              "      <th>72</th>\n",
              "      <td>Triples</td>\n",
              "      <td>G</td>\n",
              "      <td>C</td>\n",
              "      <td>110</td>\n",
              "      <td>2</td>\n",
              "      <td>1</td>\n",
              "      <td>250</td>\n",
              "      <td>0.0</td>\n",
              "      <td>21.0</td>\n",
              "      <td>3</td>\n",
              "      <td>60</td>\n",
              "      <td>25</td>\n",
              "      <td>3</td>\n",
              "      <td>1.0</td>\n",
              "      <td>0.75</td>\n",
              "      <td>39.106174</td>\n",
              "    </tr>\n",
              "    <tr>\n",
              "      <th>73</th>\n",
              "      <td>Trix</td>\n",
              "      <td>G</td>\n",
              "      <td>C</td>\n",
              "      <td>110</td>\n",
              "      <td>1</td>\n",
              "      <td>1</td>\n",
              "      <td>140</td>\n",
              "      <td>0.0</td>\n",
              "      <td>13.0</td>\n",
              "      <td>12</td>\n",
              "      <td>25</td>\n",
              "      <td>25</td>\n",
              "      <td>2</td>\n",
              "      <td>1.0</td>\n",
              "      <td>1.00</td>\n",
              "      <td>27.753301</td>\n",
              "    </tr>\n",
              "    <tr>\n",
              "      <th>74</th>\n",
              "      <td>Wheat Chex</td>\n",
              "      <td>R</td>\n",
              "      <td>C</td>\n",
              "      <td>100</td>\n",
              "      <td>3</td>\n",
              "      <td>1</td>\n",
              "      <td>230</td>\n",
              "      <td>3.0</td>\n",
              "      <td>17.0</td>\n",
              "      <td>3</td>\n",
              "      <td>115</td>\n",
              "      <td>25</td>\n",
              "      <td>1</td>\n",
              "      <td>1.0</td>\n",
              "      <td>0.67</td>\n",
              "      <td>49.787445</td>\n",
              "    </tr>\n",
              "    <tr>\n",
              "      <th>75</th>\n",
              "      <td>Wheaties</td>\n",
              "      <td>G</td>\n",
              "      <td>C</td>\n",
              "      <td>100</td>\n",
              "      <td>3</td>\n",
              "      <td>1</td>\n",
              "      <td>200</td>\n",
              "      <td>3.0</td>\n",
              "      <td>17.0</td>\n",
              "      <td>3</td>\n",
              "      <td>110</td>\n",
              "      <td>25</td>\n",
              "      <td>1</td>\n",
              "      <td>1.0</td>\n",
              "      <td>1.00</td>\n",
              "      <td>51.592193</td>\n",
              "    </tr>\n",
              "    <tr>\n",
              "      <th>76</th>\n",
              "      <td>Wheaties Honey Gold</td>\n",
              "      <td>G</td>\n",
              "      <td>C</td>\n",
              "      <td>110</td>\n",
              "      <td>2</td>\n",
              "      <td>1</td>\n",
              "      <td>200</td>\n",
              "      <td>1.0</td>\n",
              "      <td>16.0</td>\n",
              "      <td>8</td>\n",
              "      <td>60</td>\n",
              "      <td>25</td>\n",
              "      <td>1</td>\n",
              "      <td>1.0</td>\n",
              "      <td>0.75</td>\n",
              "      <td>36.187559</td>\n",
              "    </tr>\n",
              "  </tbody>\n",
              "</table>\n",
              "</div>"
            ],
            "text/plain": [
              "                   name mfr type  calories  ...  shelf  weight  cups     rating\n",
              "72              Triples   G    C       110  ...      3     1.0  0.75  39.106174\n",
              "73                 Trix   G    C       110  ...      2     1.0  1.00  27.753301\n",
              "74           Wheat Chex   R    C       100  ...      1     1.0  0.67  49.787445\n",
              "75             Wheaties   G    C       100  ...      1     1.0  1.00  51.592193\n",
              "76  Wheaties Honey Gold   G    C       110  ...      1     1.0  0.75  36.187559\n",
              "\n",
              "[5 rows x 16 columns]"
            ]
          },
          "metadata": {
            "tags": []
          },
          "execution_count": 15
        }
      ]
    },
    {
      "cell_type": "code",
      "metadata": {
        "id": "3yfUVpdBcFY6",
        "colab": {
          "base_uri": "https://localhost:8080/",
          "height": 37
        },
        "outputId": "f3d1ae6d-92ee-4316-a872-f211536a0dab"
      },
      "source": [
        "cereal_df.columns\n",
        "\n",
        "cereal_df.columns[0]\n",
        "cereal_df.columns[1]\n",
        "cereal_df.columns[2]"
      ],
      "execution_count": null,
      "outputs": [
        {
          "output_type": "execute_result",
          "data": {
            "application/vnd.google.colaboratory.intrinsic+json": {
              "type": "string"
            },
            "text/plain": [
              "'type'"
            ]
          },
          "metadata": {
            "tags": []
          },
          "execution_count": 16
        }
      ]
    },
    {
      "cell_type": "code",
      "metadata": {
        "id": "f-x20DmicIl3",
        "colab": {
          "base_uri": "https://localhost:8080/"
        },
        "outputId": "c03c5101-e29d-4e9b-e1c9-639f0ee93000"
      },
      "source": [
        "cereal_df['type'].unique()\n",
        "cereal_df['type'].unique().size"
      ],
      "execution_count": null,
      "outputs": [
        {
          "output_type": "execute_result",
          "data": {
            "text/plain": [
              "2"
            ]
          },
          "metadata": {
            "tags": []
          },
          "execution_count": 18
        }
      ]
    },
    {
      "cell_type": "code",
      "metadata": {
        "id": "5g495CDucOEg",
        "colab": {
          "base_uri": "https://localhost:8080/"
        },
        "outputId": "59071dee-c5d5-425c-a910-30e511c9fa54"
      },
      "source": [
        "cereal_df[cereal_df['type'] == 'C'].count\n",
        "cereal_df[cereal_df['type'] == 'C'].count()[0]\n",
        "cereal_df[cereal_df.type == 'C'].count()[0]\n",
        "cereal_df.count()[0]"
      ],
      "execution_count": null,
      "outputs": [
        {
          "output_type": "execute_result",
          "data": {
            "text/plain": [
              "77"
            ]
          },
          "metadata": {
            "tags": []
          },
          "execution_count": 20
        }
      ]
    },
    {
      "cell_type": "code",
      "metadata": {
        "id": "NnNZufGPcSrr",
        "colab": {
          "base_uri": "https://localhost:8080/"
        },
        "outputId": "2cef901f-c693-4659-b045-84eb8e640825"
      },
      "source": [
        "cereal_df['name'][cereal_df['type'] == 'C'].count() \n",
        "cereal_df['name'][cereal_df['type'] == 'H'].count()"
      ],
      "execution_count": null,
      "outputs": [
        {
          "output_type": "execute_result",
          "data": {
            "text/plain": [
              "3"
            ]
          },
          "metadata": {
            "tags": []
          },
          "execution_count": 21
        }
      ]
    },
    {
      "cell_type": "code",
      "metadata": {
        "id": "4wn0E-mfcU4m",
        "colab": {
          "base_uri": "https://localhost:8080/",
          "height": 230
        },
        "outputId": "723d7233-37b5-47ca-dc2f-8d56669bb9b8"
      },
      "source": [
        "cereal_df[['name','mfr','type','calories','protein','fat', 'sodium', 'fiber',\n",
        "       'carbo', 'sugars', 'potass', 'vitamins', 'shelf', 'weight', 'cups',\n",
        "       'rating']][cereal_df['type'] == 'H'].head()"
      ],
      "execution_count": null,
      "outputs": [
        {
          "output_type": "execute_result",
          "data": {
            "text/html": [
              "<div>\n",
              "<style scoped>\n",
              "    .dataframe tbody tr th:only-of-type {\n",
              "        vertical-align: middle;\n",
              "    }\n",
              "\n",
              "    .dataframe tbody tr th {\n",
              "        vertical-align: top;\n",
              "    }\n",
              "\n",
              "    .dataframe thead th {\n",
              "        text-align: right;\n",
              "    }\n",
              "</style>\n",
              "<table border=\"1\" class=\"dataframe\">\n",
              "  <thead>\n",
              "    <tr style=\"text-align: right;\">\n",
              "      <th></th>\n",
              "      <th>name</th>\n",
              "      <th>mfr</th>\n",
              "      <th>type</th>\n",
              "      <th>calories</th>\n",
              "      <th>protein</th>\n",
              "      <th>fat</th>\n",
              "      <th>sodium</th>\n",
              "      <th>fiber</th>\n",
              "      <th>carbo</th>\n",
              "      <th>sugars</th>\n",
              "      <th>potass</th>\n",
              "      <th>vitamins</th>\n",
              "      <th>shelf</th>\n",
              "      <th>weight</th>\n",
              "      <th>cups</th>\n",
              "      <th>rating</th>\n",
              "    </tr>\n",
              "  </thead>\n",
              "  <tbody>\n",
              "    <tr>\n",
              "      <th>20</th>\n",
              "      <td>Cream of Wheat (Quick)</td>\n",
              "      <td>N</td>\n",
              "      <td>H</td>\n",
              "      <td>100</td>\n",
              "      <td>3</td>\n",
              "      <td>0</td>\n",
              "      <td>80</td>\n",
              "      <td>1.0</td>\n",
              "      <td>21.0</td>\n",
              "      <td>0</td>\n",
              "      <td>-1</td>\n",
              "      <td>0</td>\n",
              "      <td>2</td>\n",
              "      <td>1.0</td>\n",
              "      <td>1.00</td>\n",
              "      <td>64.533816</td>\n",
              "    </tr>\n",
              "    <tr>\n",
              "      <th>43</th>\n",
              "      <td>Maypo</td>\n",
              "      <td>A</td>\n",
              "      <td>H</td>\n",
              "      <td>100</td>\n",
              "      <td>4</td>\n",
              "      <td>1</td>\n",
              "      <td>0</td>\n",
              "      <td>0.0</td>\n",
              "      <td>16.0</td>\n",
              "      <td>3</td>\n",
              "      <td>95</td>\n",
              "      <td>25</td>\n",
              "      <td>2</td>\n",
              "      <td>1.0</td>\n",
              "      <td>1.00</td>\n",
              "      <td>54.850917</td>\n",
              "    </tr>\n",
              "    <tr>\n",
              "      <th>57</th>\n",
              "      <td>Quaker Oatmeal</td>\n",
              "      <td>Q</td>\n",
              "      <td>H</td>\n",
              "      <td>100</td>\n",
              "      <td>5</td>\n",
              "      <td>2</td>\n",
              "      <td>0</td>\n",
              "      <td>2.7</td>\n",
              "      <td>-1.0</td>\n",
              "      <td>-1</td>\n",
              "      <td>110</td>\n",
              "      <td>0</td>\n",
              "      <td>1</td>\n",
              "      <td>1.0</td>\n",
              "      <td>0.67</td>\n",
              "      <td>50.828392</td>\n",
              "    </tr>\n",
              "  </tbody>\n",
              "</table>\n",
              "</div>"
            ],
            "text/plain": [
              "                      name mfr type  calories  ...  shelf  weight  cups     rating\n",
              "20  Cream of Wheat (Quick)   N    H       100  ...      2     1.0  1.00  64.533816\n",
              "43                   Maypo   A    H       100  ...      2     1.0  1.00  54.850917\n",
              "57          Quaker Oatmeal   Q    H       100  ...      1     1.0  0.67  50.828392\n",
              "\n",
              "[3 rows x 16 columns]"
            ]
          },
          "metadata": {
            "tags": []
          },
          "execution_count": 22
        }
      ]
    },
    {
      "cell_type": "code",
      "metadata": {
        "id": "M6SyZAaRcYNz",
        "colab": {
          "base_uri": "https://localhost:8080/",
          "height": 275
        },
        "outputId": "519620b3-f443-45ee-d2bc-3a6b778aaabc"
      },
      "source": [
        "cereal_df[['name','mfr','type','calories','protein','fat', 'sodium', 'fiber',\n",
        "       'carbo', 'sugars', 'potass', 'vitamins', 'shelf', 'weight', 'cups',\n",
        "       'rating']][cereal_df['type'] == 'C'].head()\n",
        "\n",
        "cereal_df[['name','mfr','type','calories','protein','fat', 'sodium', 'fiber',\n",
        "       'carbo', 'sugars', 'potass', 'vitamins', 'shelf', 'weight', 'cups',\n",
        "       'rating']][cereal_df['type'] == 'C'].tail()"
      ],
      "execution_count": null,
      "outputs": [
        {
          "output_type": "execute_result",
          "data": {
            "text/html": [
              "<div>\n",
              "<style scoped>\n",
              "    .dataframe tbody tr th:only-of-type {\n",
              "        vertical-align: middle;\n",
              "    }\n",
              "\n",
              "    .dataframe tbody tr th {\n",
              "        vertical-align: top;\n",
              "    }\n",
              "\n",
              "    .dataframe thead th {\n",
              "        text-align: right;\n",
              "    }\n",
              "</style>\n",
              "<table border=\"1\" class=\"dataframe\">\n",
              "  <thead>\n",
              "    <tr style=\"text-align: right;\">\n",
              "      <th></th>\n",
              "      <th>name</th>\n",
              "      <th>mfr</th>\n",
              "      <th>type</th>\n",
              "      <th>calories</th>\n",
              "      <th>protein</th>\n",
              "      <th>fat</th>\n",
              "      <th>sodium</th>\n",
              "      <th>fiber</th>\n",
              "      <th>carbo</th>\n",
              "      <th>sugars</th>\n",
              "      <th>potass</th>\n",
              "      <th>vitamins</th>\n",
              "      <th>shelf</th>\n",
              "      <th>weight</th>\n",
              "      <th>cups</th>\n",
              "      <th>rating</th>\n",
              "    </tr>\n",
              "  </thead>\n",
              "  <tbody>\n",
              "    <tr>\n",
              "      <th>72</th>\n",
              "      <td>Triples</td>\n",
              "      <td>G</td>\n",
              "      <td>C</td>\n",
              "      <td>110</td>\n",
              "      <td>2</td>\n",
              "      <td>1</td>\n",
              "      <td>250</td>\n",
              "      <td>0.0</td>\n",
              "      <td>21.0</td>\n",
              "      <td>3</td>\n",
              "      <td>60</td>\n",
              "      <td>25</td>\n",
              "      <td>3</td>\n",
              "      <td>1.0</td>\n",
              "      <td>0.75</td>\n",
              "      <td>39.106174</td>\n",
              "    </tr>\n",
              "    <tr>\n",
              "      <th>73</th>\n",
              "      <td>Trix</td>\n",
              "      <td>G</td>\n",
              "      <td>C</td>\n",
              "      <td>110</td>\n",
              "      <td>1</td>\n",
              "      <td>1</td>\n",
              "      <td>140</td>\n",
              "      <td>0.0</td>\n",
              "      <td>13.0</td>\n",
              "      <td>12</td>\n",
              "      <td>25</td>\n",
              "      <td>25</td>\n",
              "      <td>2</td>\n",
              "      <td>1.0</td>\n",
              "      <td>1.00</td>\n",
              "      <td>27.753301</td>\n",
              "    </tr>\n",
              "    <tr>\n",
              "      <th>74</th>\n",
              "      <td>Wheat Chex</td>\n",
              "      <td>R</td>\n",
              "      <td>C</td>\n",
              "      <td>100</td>\n",
              "      <td>3</td>\n",
              "      <td>1</td>\n",
              "      <td>230</td>\n",
              "      <td>3.0</td>\n",
              "      <td>17.0</td>\n",
              "      <td>3</td>\n",
              "      <td>115</td>\n",
              "      <td>25</td>\n",
              "      <td>1</td>\n",
              "      <td>1.0</td>\n",
              "      <td>0.67</td>\n",
              "      <td>49.787445</td>\n",
              "    </tr>\n",
              "    <tr>\n",
              "      <th>75</th>\n",
              "      <td>Wheaties</td>\n",
              "      <td>G</td>\n",
              "      <td>C</td>\n",
              "      <td>100</td>\n",
              "      <td>3</td>\n",
              "      <td>1</td>\n",
              "      <td>200</td>\n",
              "      <td>3.0</td>\n",
              "      <td>17.0</td>\n",
              "      <td>3</td>\n",
              "      <td>110</td>\n",
              "      <td>25</td>\n",
              "      <td>1</td>\n",
              "      <td>1.0</td>\n",
              "      <td>1.00</td>\n",
              "      <td>51.592193</td>\n",
              "    </tr>\n",
              "    <tr>\n",
              "      <th>76</th>\n",
              "      <td>Wheaties Honey Gold</td>\n",
              "      <td>G</td>\n",
              "      <td>C</td>\n",
              "      <td>110</td>\n",
              "      <td>2</td>\n",
              "      <td>1</td>\n",
              "      <td>200</td>\n",
              "      <td>1.0</td>\n",
              "      <td>16.0</td>\n",
              "      <td>8</td>\n",
              "      <td>60</td>\n",
              "      <td>25</td>\n",
              "      <td>1</td>\n",
              "      <td>1.0</td>\n",
              "      <td>0.75</td>\n",
              "      <td>36.187559</td>\n",
              "    </tr>\n",
              "  </tbody>\n",
              "</table>\n",
              "</div>"
            ],
            "text/plain": [
              "                   name mfr type  calories  ...  shelf  weight  cups     rating\n",
              "72              Triples   G    C       110  ...      3     1.0  0.75  39.106174\n",
              "73                 Trix   G    C       110  ...      2     1.0  1.00  27.753301\n",
              "74           Wheat Chex   R    C       100  ...      1     1.0  0.67  49.787445\n",
              "75             Wheaties   G    C       100  ...      1     1.0  1.00  51.592193\n",
              "76  Wheaties Honey Gold   G    C       110  ...      1     1.0  0.75  36.187559\n",
              "\n",
              "[5 rows x 16 columns]"
            ]
          },
          "metadata": {
            "tags": []
          },
          "execution_count": 23
        }
      ]
    },
    {
      "cell_type": "code",
      "metadata": {
        "id": "BGG6ENN8canZ",
        "colab": {
          "base_uri": "https://localhost:8080/"
        },
        "outputId": "ed7fd5c1-a610-418c-975d-f35c5003a2e1"
      },
      "source": [
        "cereal_df['mfr'].unique()\n",
        "\n",
        "cereal_df['mfr'].unique().size"
      ],
      "execution_count": null,
      "outputs": [
        {
          "output_type": "execute_result",
          "data": {
            "text/plain": [
              "7"
            ]
          },
          "metadata": {
            "tags": []
          },
          "execution_count": 24
        }
      ]
    },
    {
      "cell_type": "code",
      "metadata": {
        "id": "iZO3aTd-cdhT",
        "colab": {
          "base_uri": "https://localhost:8080/"
        },
        "outputId": "612b4e64-9b46-4499-d08a-a522253a71f6"
      },
      "source": [
        "cereal_df['name'][cereal_df['mfr'] == 'N'].count()\n",
        "cereal_df['name'][cereal_df['mfr'] == 'Q'].count() \n",
        "cereal_df['name'][cereal_df['mfr'] == 'K'].count() \n",
        "cereal_df['name'][cereal_df['mfr'] == 'R'].count()\n",
        "cereal_df['name'][cereal_df['mfr'] == 'G'].count() \n",
        "cereal_df['name'][cereal_df['mfr'] == 'P'].count() \n",
        "cereal_df['name'][cereal_df['mfr'] == 'A'].count()"
      ],
      "execution_count": null,
      "outputs": [
        {
          "output_type": "execute_result",
          "data": {
            "text/plain": [
              "1"
            ]
          },
          "metadata": {
            "tags": []
          },
          "execution_count": 26
        }
      ]
    },
    {
      "cell_type": "code",
      "metadata": {
        "id": "nEow0zC6cnmL",
        "colab": {
          "base_uri": "https://localhost:8080/",
          "height": 309
        },
        "outputId": "d02979f7-f27f-4ef9-fbe2-940a6bdd1581"
      },
      "source": [
        "cereal_df[['name','mfr','type','calories','protein','fat', 'sodium', 'fiber',\n",
        "       'carbo', 'sugars', 'potass', 'vitamins', 'shelf', 'weight', 'cups',\n",
        "       'rating']][cereal_df['shelf'] == 1].head()"
      ],
      "execution_count": null,
      "outputs": [
        {
          "output_type": "execute_result",
          "data": {
            "text/html": [
              "<div>\n",
              "<style scoped>\n",
              "    .dataframe tbody tr th:only-of-type {\n",
              "        vertical-align: middle;\n",
              "    }\n",
              "\n",
              "    .dataframe tbody tr th {\n",
              "        vertical-align: top;\n",
              "    }\n",
              "\n",
              "    .dataframe thead th {\n",
              "        text-align: right;\n",
              "    }\n",
              "</style>\n",
              "<table border=\"1\" class=\"dataframe\">\n",
              "  <thead>\n",
              "    <tr style=\"text-align: right;\">\n",
              "      <th></th>\n",
              "      <th>name</th>\n",
              "      <th>mfr</th>\n",
              "      <th>type</th>\n",
              "      <th>calories</th>\n",
              "      <th>protein</th>\n",
              "      <th>fat</th>\n",
              "      <th>sodium</th>\n",
              "      <th>fiber</th>\n",
              "      <th>carbo</th>\n",
              "      <th>sugars</th>\n",
              "      <th>potass</th>\n",
              "      <th>vitamins</th>\n",
              "      <th>shelf</th>\n",
              "      <th>weight</th>\n",
              "      <th>cups</th>\n",
              "      <th>rating</th>\n",
              "    </tr>\n",
              "  </thead>\n",
              "  <tbody>\n",
              "    <tr>\n",
              "      <th>5</th>\n",
              "      <td>Apple Cinnamon Cheerios</td>\n",
              "      <td>G</td>\n",
              "      <td>C</td>\n",
              "      <td>110</td>\n",
              "      <td>2</td>\n",
              "      <td>2</td>\n",
              "      <td>180</td>\n",
              "      <td>1.5</td>\n",
              "      <td>10.5</td>\n",
              "      <td>10</td>\n",
              "      <td>70</td>\n",
              "      <td>25</td>\n",
              "      <td>1</td>\n",
              "      <td>1.0</td>\n",
              "      <td>0.75</td>\n",
              "      <td>29.509541</td>\n",
              "    </tr>\n",
              "    <tr>\n",
              "      <th>8</th>\n",
              "      <td>Bran Chex</td>\n",
              "      <td>R</td>\n",
              "      <td>C</td>\n",
              "      <td>90</td>\n",
              "      <td>2</td>\n",
              "      <td>1</td>\n",
              "      <td>200</td>\n",
              "      <td>4.0</td>\n",
              "      <td>15.0</td>\n",
              "      <td>6</td>\n",
              "      <td>125</td>\n",
              "      <td>25</td>\n",
              "      <td>1</td>\n",
              "      <td>1.0</td>\n",
              "      <td>0.67</td>\n",
              "      <td>49.120253</td>\n",
              "    </tr>\n",
              "    <tr>\n",
              "      <th>11</th>\n",
              "      <td>Cheerios</td>\n",
              "      <td>G</td>\n",
              "      <td>C</td>\n",
              "      <td>110</td>\n",
              "      <td>6</td>\n",
              "      <td>2</td>\n",
              "      <td>290</td>\n",
              "      <td>2.0</td>\n",
              "      <td>17.0</td>\n",
              "      <td>1</td>\n",
              "      <td>105</td>\n",
              "      <td>25</td>\n",
              "      <td>1</td>\n",
              "      <td>1.0</td>\n",
              "      <td>1.25</td>\n",
              "      <td>50.764999</td>\n",
              "    </tr>\n",
              "    <tr>\n",
              "      <th>15</th>\n",
              "      <td>Corn Chex</td>\n",
              "      <td>R</td>\n",
              "      <td>C</td>\n",
              "      <td>110</td>\n",
              "      <td>2</td>\n",
              "      <td>0</td>\n",
              "      <td>280</td>\n",
              "      <td>0.0</td>\n",
              "      <td>22.0</td>\n",
              "      <td>3</td>\n",
              "      <td>25</td>\n",
              "      <td>25</td>\n",
              "      <td>1</td>\n",
              "      <td>1.0</td>\n",
              "      <td>1.00</td>\n",
              "      <td>41.445019</td>\n",
              "    </tr>\n",
              "    <tr>\n",
              "      <th>16</th>\n",
              "      <td>Corn Flakes</td>\n",
              "      <td>K</td>\n",
              "      <td>C</td>\n",
              "      <td>100</td>\n",
              "      <td>2</td>\n",
              "      <td>0</td>\n",
              "      <td>290</td>\n",
              "      <td>1.0</td>\n",
              "      <td>21.0</td>\n",
              "      <td>2</td>\n",
              "      <td>35</td>\n",
              "      <td>25</td>\n",
              "      <td>1</td>\n",
              "      <td>1.0</td>\n",
              "      <td>1.00</td>\n",
              "      <td>45.863324</td>\n",
              "    </tr>\n",
              "  </tbody>\n",
              "</table>\n",
              "</div>"
            ],
            "text/plain": [
              "                       name mfr type  calories  ...  shelf  weight  cups     rating\n",
              "5   Apple Cinnamon Cheerios   G    C       110  ...      1     1.0  0.75  29.509541\n",
              "8                 Bran Chex   R    C        90  ...      1     1.0  0.67  49.120253\n",
              "11                 Cheerios   G    C       110  ...      1     1.0  1.25  50.764999\n",
              "15                Corn Chex   R    C       110  ...      1     1.0  1.00  41.445019\n",
              "16              Corn Flakes   K    C       100  ...      1     1.0  1.00  45.863324\n",
              "\n",
              "[5 rows x 16 columns]"
            ]
          },
          "metadata": {
            "tags": []
          },
          "execution_count": 27
        }
      ]
    },
    {
      "cell_type": "code",
      "metadata": {
        "id": "Dlw_MR9pcpdl",
        "colab": {
          "base_uri": "https://localhost:8080/",
          "height": 241
        },
        "outputId": "a68e0765-53cf-403f-d893-2c929a3ed625"
      },
      "source": [
        "cereal_df[['name','mfr','type','calories','protein','fat', 'sodium', 'fiber',\n",
        "       'carbo', 'sugars', 'potass', 'vitamins', 'shelf', 'weight', 'cups',\n",
        "       'rating']][cereal_df['shelf'] == 2].head()"
      ],
      "execution_count": null,
      "outputs": [
        {
          "output_type": "execute_result",
          "data": {
            "text/html": [
              "<div>\n",
              "<style scoped>\n",
              "    .dataframe tbody tr th:only-of-type {\n",
              "        vertical-align: middle;\n",
              "    }\n",
              "\n",
              "    .dataframe tbody tr th {\n",
              "        vertical-align: top;\n",
              "    }\n",
              "\n",
              "    .dataframe thead th {\n",
              "        text-align: right;\n",
              "    }\n",
              "</style>\n",
              "<table border=\"1\" class=\"dataframe\">\n",
              "  <thead>\n",
              "    <tr style=\"text-align: right;\">\n",
              "      <th></th>\n",
              "      <th>name</th>\n",
              "      <th>mfr</th>\n",
              "      <th>type</th>\n",
              "      <th>calories</th>\n",
              "      <th>protein</th>\n",
              "      <th>fat</th>\n",
              "      <th>sodium</th>\n",
              "      <th>fiber</th>\n",
              "      <th>carbo</th>\n",
              "      <th>sugars</th>\n",
              "      <th>potass</th>\n",
              "      <th>vitamins</th>\n",
              "      <th>shelf</th>\n",
              "      <th>weight</th>\n",
              "      <th>cups</th>\n",
              "      <th>rating</th>\n",
              "    </tr>\n",
              "  </thead>\n",
              "  <tbody>\n",
              "    <tr>\n",
              "      <th>6</th>\n",
              "      <td>Apple Jacks</td>\n",
              "      <td>K</td>\n",
              "      <td>C</td>\n",
              "      <td>110</td>\n",
              "      <td>2</td>\n",
              "      <td>0</td>\n",
              "      <td>125</td>\n",
              "      <td>1.0</td>\n",
              "      <td>11.0</td>\n",
              "      <td>14</td>\n",
              "      <td>30</td>\n",
              "      <td>25</td>\n",
              "      <td>2</td>\n",
              "      <td>1.0</td>\n",
              "      <td>1.00</td>\n",
              "      <td>33.174094</td>\n",
              "    </tr>\n",
              "    <tr>\n",
              "      <th>10</th>\n",
              "      <td>Cap'n'Crunch</td>\n",
              "      <td>Q</td>\n",
              "      <td>C</td>\n",
              "      <td>120</td>\n",
              "      <td>1</td>\n",
              "      <td>2</td>\n",
              "      <td>220</td>\n",
              "      <td>0.0</td>\n",
              "      <td>12.0</td>\n",
              "      <td>12</td>\n",
              "      <td>35</td>\n",
              "      <td>25</td>\n",
              "      <td>2</td>\n",
              "      <td>1.0</td>\n",
              "      <td>0.75</td>\n",
              "      <td>18.042851</td>\n",
              "    </tr>\n",
              "    <tr>\n",
              "      <th>12</th>\n",
              "      <td>Cinnamon Toast Crunch</td>\n",
              "      <td>G</td>\n",
              "      <td>C</td>\n",
              "      <td>120</td>\n",
              "      <td>1</td>\n",
              "      <td>3</td>\n",
              "      <td>210</td>\n",
              "      <td>0.0</td>\n",
              "      <td>13.0</td>\n",
              "      <td>9</td>\n",
              "      <td>45</td>\n",
              "      <td>25</td>\n",
              "      <td>2</td>\n",
              "      <td>1.0</td>\n",
              "      <td>0.75</td>\n",
              "      <td>19.823573</td>\n",
              "    </tr>\n",
              "    <tr>\n",
              "      <th>14</th>\n",
              "      <td>Cocoa Puffs</td>\n",
              "      <td>G</td>\n",
              "      <td>C</td>\n",
              "      <td>110</td>\n",
              "      <td>1</td>\n",
              "      <td>1</td>\n",
              "      <td>180</td>\n",
              "      <td>0.0</td>\n",
              "      <td>12.0</td>\n",
              "      <td>13</td>\n",
              "      <td>55</td>\n",
              "      <td>25</td>\n",
              "      <td>2</td>\n",
              "      <td>1.0</td>\n",
              "      <td>1.00</td>\n",
              "      <td>22.736446</td>\n",
              "    </tr>\n",
              "    <tr>\n",
              "      <th>17</th>\n",
              "      <td>Corn Pops</td>\n",
              "      <td>K</td>\n",
              "      <td>C</td>\n",
              "      <td>110</td>\n",
              "      <td>1</td>\n",
              "      <td>0</td>\n",
              "      <td>90</td>\n",
              "      <td>1.0</td>\n",
              "      <td>13.0</td>\n",
              "      <td>12</td>\n",
              "      <td>20</td>\n",
              "      <td>25</td>\n",
              "      <td>2</td>\n",
              "      <td>1.0</td>\n",
              "      <td>1.00</td>\n",
              "      <td>35.782791</td>\n",
              "    </tr>\n",
              "  </tbody>\n",
              "</table>\n",
              "</div>"
            ],
            "text/plain": [
              "                     name mfr type  calories  ...  shelf  weight  cups     rating\n",
              "6             Apple Jacks   K    C       110  ...      2     1.0  1.00  33.174094\n",
              "10           Cap'n'Crunch   Q    C       120  ...      2     1.0  0.75  18.042851\n",
              "12  Cinnamon Toast Crunch   G    C       120  ...      2     1.0  0.75  19.823573\n",
              "14            Cocoa Puffs   G    C       110  ...      2     1.0  1.00  22.736446\n",
              "17              Corn Pops   K    C       110  ...      2     1.0  1.00  35.782791\n",
              "\n",
              "[5 rows x 16 columns]"
            ]
          },
          "metadata": {
            "tags": []
          },
          "execution_count": 28
        }
      ]
    },
    {
      "cell_type": "code",
      "metadata": {
        "id": "oNz5GDxRcpYy",
        "colab": {
          "base_uri": "https://localhost:8080/",
          "height": 377
        },
        "outputId": "d4529689-95c0-42b7-e69a-f779f27b2c1e"
      },
      "source": [
        "cereal_df[['name','mfr','type','calories','protein','fat', 'sodium', 'fiber',\n",
        "       'carbo', 'sugars', 'potass', 'vitamins', 'shelf', 'weight', 'cups',\n",
        "       'rating']][cereal_df['shelf'] == 3].head()"
      ],
      "execution_count": null,
      "outputs": [
        {
          "output_type": "execute_result",
          "data": {
            "text/html": [
              "<div>\n",
              "<style scoped>\n",
              "    .dataframe tbody tr th:only-of-type {\n",
              "        vertical-align: middle;\n",
              "    }\n",
              "\n",
              "    .dataframe tbody tr th {\n",
              "        vertical-align: top;\n",
              "    }\n",
              "\n",
              "    .dataframe thead th {\n",
              "        text-align: right;\n",
              "    }\n",
              "</style>\n",
              "<table border=\"1\" class=\"dataframe\">\n",
              "  <thead>\n",
              "    <tr style=\"text-align: right;\">\n",
              "      <th></th>\n",
              "      <th>name</th>\n",
              "      <th>mfr</th>\n",
              "      <th>type</th>\n",
              "      <th>calories</th>\n",
              "      <th>protein</th>\n",
              "      <th>fat</th>\n",
              "      <th>sodium</th>\n",
              "      <th>fiber</th>\n",
              "      <th>carbo</th>\n",
              "      <th>sugars</th>\n",
              "      <th>potass</th>\n",
              "      <th>vitamins</th>\n",
              "      <th>shelf</th>\n",
              "      <th>weight</th>\n",
              "      <th>cups</th>\n",
              "      <th>rating</th>\n",
              "    </tr>\n",
              "  </thead>\n",
              "  <tbody>\n",
              "    <tr>\n",
              "      <th>0</th>\n",
              "      <td>100% Bran</td>\n",
              "      <td>N</td>\n",
              "      <td>C</td>\n",
              "      <td>70</td>\n",
              "      <td>4</td>\n",
              "      <td>1</td>\n",
              "      <td>130</td>\n",
              "      <td>10.0</td>\n",
              "      <td>5.0</td>\n",
              "      <td>6</td>\n",
              "      <td>280</td>\n",
              "      <td>25</td>\n",
              "      <td>3</td>\n",
              "      <td>1.0</td>\n",
              "      <td>0.33</td>\n",
              "      <td>68.402973</td>\n",
              "    </tr>\n",
              "    <tr>\n",
              "      <th>1</th>\n",
              "      <td>100% Natural Bran</td>\n",
              "      <td>Q</td>\n",
              "      <td>C</td>\n",
              "      <td>120</td>\n",
              "      <td>3</td>\n",
              "      <td>5</td>\n",
              "      <td>15</td>\n",
              "      <td>2.0</td>\n",
              "      <td>8.0</td>\n",
              "      <td>8</td>\n",
              "      <td>135</td>\n",
              "      <td>0</td>\n",
              "      <td>3</td>\n",
              "      <td>1.0</td>\n",
              "      <td>1.00</td>\n",
              "      <td>33.983679</td>\n",
              "    </tr>\n",
              "    <tr>\n",
              "      <th>2</th>\n",
              "      <td>All-Bran</td>\n",
              "      <td>K</td>\n",
              "      <td>C</td>\n",
              "      <td>70</td>\n",
              "      <td>4</td>\n",
              "      <td>1</td>\n",
              "      <td>260</td>\n",
              "      <td>9.0</td>\n",
              "      <td>7.0</td>\n",
              "      <td>5</td>\n",
              "      <td>320</td>\n",
              "      <td>25</td>\n",
              "      <td>3</td>\n",
              "      <td>1.0</td>\n",
              "      <td>0.33</td>\n",
              "      <td>59.425505</td>\n",
              "    </tr>\n",
              "    <tr>\n",
              "      <th>3</th>\n",
              "      <td>All-Bran with Extra Fiber</td>\n",
              "      <td>K</td>\n",
              "      <td>C</td>\n",
              "      <td>50</td>\n",
              "      <td>4</td>\n",
              "      <td>0</td>\n",
              "      <td>140</td>\n",
              "      <td>14.0</td>\n",
              "      <td>8.0</td>\n",
              "      <td>0</td>\n",
              "      <td>330</td>\n",
              "      <td>25</td>\n",
              "      <td>3</td>\n",
              "      <td>1.0</td>\n",
              "      <td>0.50</td>\n",
              "      <td>93.704912</td>\n",
              "    </tr>\n",
              "    <tr>\n",
              "      <th>4</th>\n",
              "      <td>Almond Delight</td>\n",
              "      <td>R</td>\n",
              "      <td>C</td>\n",
              "      <td>110</td>\n",
              "      <td>2</td>\n",
              "      <td>2</td>\n",
              "      <td>200</td>\n",
              "      <td>1.0</td>\n",
              "      <td>14.0</td>\n",
              "      <td>8</td>\n",
              "      <td>-1</td>\n",
              "      <td>25</td>\n",
              "      <td>3</td>\n",
              "      <td>1.0</td>\n",
              "      <td>0.75</td>\n",
              "      <td>34.384843</td>\n",
              "    </tr>\n",
              "  </tbody>\n",
              "</table>\n",
              "</div>"
            ],
            "text/plain": [
              "                        name mfr type  calories  ...  shelf  weight  cups     rating\n",
              "0                  100% Bran   N    C        70  ...      3     1.0  0.33  68.402973\n",
              "1          100% Natural Bran   Q    C       120  ...      3     1.0  1.00  33.983679\n",
              "2                   All-Bran   K    C        70  ...      3     1.0  0.33  59.425505\n",
              "3  All-Bran with Extra Fiber   K    C        50  ...      3     1.0  0.50  93.704912\n",
              "4             Almond Delight   R    C       110  ...      3     1.0  0.75  34.384843\n",
              "\n",
              "[5 rows x 16 columns]"
            ]
          },
          "metadata": {
            "tags": []
          },
          "execution_count": 29
        }
      ]
    },
    {
      "cell_type": "code",
      "metadata": {
        "id": "MAAo7RBveNs6",
        "colab": {
          "base_uri": "https://localhost:8080/"
        },
        "outputId": "cd6e4937-65f1-4a47-a512-908093b4d132"
      },
      "source": [
        "data = pd.Series([1, 2, 3, 4, 4, 3, 4])\n",
        "print(\"1. Series\")\n",
        "data\n",
        "\n",
        "print(\"2. value_counts() on series\")\n",
        "data.value_counts() \n",
        "\n",
        "print(\"3. Access Series with index, values\")\n",
        "data.index\n",
        "data.values\n",
        "\n",
        "print(\"Access Series like a dictionary\")\n",
        "data.keys()\n",
        "list(data.items())"
      ],
      "execution_count": null,
      "outputs": [
        {
          "output_type": "stream",
          "text": [
            "1. Series\n",
            "2. value_counts() on series\n",
            "3. Access Series with index, values\n",
            "Access Series like a dictionary\n"
          ],
          "name": "stdout"
        },
        {
          "output_type": "execute_result",
          "data": {
            "text/plain": [
              "[(0, 1), (1, 2), (2, 3), (3, 4), (4, 4), (5, 3), (6, 4)]"
            ]
          },
          "metadata": {
            "tags": []
          },
          "execution_count": 35
        }
      ]
    },
    {
      "cell_type": "code",
      "metadata": {
        "id": "usYRLLyBeQtE",
        "colab": {
          "base_uri": "https://localhost:8080/"
        },
        "outputId": "289c5b44-2240-479d-ade8-a4c8c1ffb1c3"
      },
      "source": [
        "type_counts = cereal_df['type'].value_counts()\n",
        "type_counts \n",
        "\n",
        "type_counts.index.values \n",
        "type_counts.values"
      ],
      "execution_count": null,
      "outputs": [
        {
          "output_type": "execute_result",
          "data": {
            "text/plain": [
              "array([74,  3])"
            ]
          },
          "metadata": {
            "tags": []
          },
          "execution_count": 36
        }
      ]
    },
    {
      "cell_type": "code",
      "metadata": {
        "id": "GZvMuIlKeTwe",
        "colab": {
          "base_uri": "https://localhost:8080/"
        },
        "outputId": "25b816f2-729e-43aa-80c0-54f436db0102"
      },
      "source": [
        "mfr_counts = cereal_df['mfr'].value_counts()\n",
        "mfr_counts\n",
        "mfr_counts.index.values \n",
        "mfr_counts.values"
      ],
      "execution_count": null,
      "outputs": [
        {
          "output_type": "execute_result",
          "data": {
            "text/plain": [
              "array([23, 22,  9,  8,  8,  6,  1])"
            ]
          },
          "metadata": {
            "tags": []
          },
          "execution_count": 37
        }
      ]
    },
    {
      "cell_type": "code",
      "metadata": {
        "id": "D2f4MLf4emfD",
        "colab": {
          "base_uri": "https://localhost:8080/"
        },
        "outputId": "9397bc37-96c3-4050-df67-2b8608392651"
      },
      "source": [
        "shelf_counts = cereal_df['shelf'].value_counts()\n",
        "shelf_counts\n",
        "shelf_counts.index.values \n",
        "shelf_counts.values"
      ],
      "execution_count": null,
      "outputs": [
        {
          "output_type": "execute_result",
          "data": {
            "text/plain": [
              "array([36, 21, 20])"
            ]
          },
          "metadata": {
            "tags": []
          },
          "execution_count": 40
        }
      ]
    },
    {
      "cell_type": "code",
      "metadata": {
        "id": "WpwK5A7neqGv",
        "colab": {
          "base_uri": "https://localhost:8080/",
          "height": 251
        },
        "outputId": "596d3f44-912d-4f71-9d2c-2c0bbe0a603f"
      },
      "source": [
        "plt.style.use('seaborn-whitegrid')\n",
        "\n",
        "\n",
        "\n",
        "fig, (ax0, ax1, ax2) = plt.subplots(nrows=1, ncols=3, figsize=(15, 4))\n",
        "\n",
        "\n",
        "ax0.bar(type_counts.index.values, type_counts.values, width=0.5, align='center')\n",
        "ax0.set(title = 'type_counts', xlabel='type' , ylabel = 'Frequency')\n",
        "\n",
        "ax1.bar(mfr_counts.index.values, mfr_counts.values, width=0.5, align='center')\n",
        "ax1.set(title = 'mfr_counts', xlabel='mfr' , ylabel = 'Frequency')\n",
        "\n",
        "ax2.bar(shelf_counts.index.values, shelf_counts.values, width=0.5, align='center')\n",
        "ax2.set(title = 'shelf_counts', xlabel='shelf' , ylabel = 'Frequency')\n",
        "\n",
        "fig.suptitle('Frequency Distribution', fontsize=14, fontweight='bold');"
      ],
      "execution_count": null,
      "outputs": [
        {
          "output_type": "display_data",
          "data": {
            "image/png": "[encoded data removed]",
            "text/plain": [
              "<Figure size 1080x288 with 3 Axes>"
            ]
          },
          "metadata": {
            "tags": []
          }
        }
      ]
    },
    {
      "cell_type": "code",
      "metadata": {
        "id": "OgYpyfukfEjy",
        "colab": {
          "base_uri": "https://localhost:8080/",
          "height": 318
        },
        "outputId": "c28f24a1-b15e-48c5-c6a7-7a12b1242047"
      },
      "source": [
        "num_rows = cereal_df['name'].count()\n",
        "\n",
        "rel_freq_type = type_counts.values/num_rows\n",
        "print(rel_freq_type)\n",
        "\n",
        "rel_freq_mfr = mfr_counts.values/num_rows\n",
        "print(rel_freq_mfr)\n",
        "\n",
        "rel_freq_shelf = shelf_counts.values/num_rows\n",
        "print(rel_freq_shelf)\n",
        "\n",
        "\n",
        "plt.style.use('seaborn-whitegrid')\n",
        "\n",
        "fig, (ax0, ax1, ax2) = plt.subplots(nrows=1, ncols=3, figsize=(15, 4))\n",
        "\n",
        "\n",
        "ax0.bar(type_counts.index.values, rel_freq_type, width=0.5, align='center')\n",
        "ax0.set(title = 'type_counts', xlabel='type' , ylabel = 'Proportion')\n",
        "\n",
        "ax1.bar(mfr_counts.index.values, rel_freq_mfr, width=0.5, align='center')\n",
        "ax1.set(title = 'mfr_counts', xlabel='mfr' , ylabel = 'Proportion')\n",
        "\n",
        "ax2.bar(shelf_counts.index.values, rel_freq_shelf, width=0.5, align='center')\n",
        "ax2.set(title = 'shelf_counts', xlabel='shelf' , ylabel = 'Proportion')\n",
        "\n",
        "fig.suptitle('Relative Frequency - Proportion Distribution', fontsize=14, fontweight='bold');"
      ],
      "execution_count": null,
      "outputs": [
        {
          "output_type": "stream",
          "text": [
            "[0.96103896 0.03896104]\n",
            "[0.2987013  0.28571429 0.11688312 0.1038961  0.1038961  0.07792208\n",
            " 0.01298701]\n",
            "[0.46753247 0.27272727 0.25974026]\n"
          ],
          "name": "stdout"
        },
        {
          "output_type": "display_data",
          "data": {
            "image/png": "[encoded data removed]",
            "text/plain": [
              "<Figure size 1080x288 with 3 Axes>"
            ]
          },
          "metadata": {
            "tags": []
          }
        }
      ]
    },
    {
      "cell_type": "code",
      "metadata": {
        "id": "BudnugRTfOZn",
        "colab": {
          "base_uri": "https://localhost:8080/"
        },
        "outputId": "eef25c40-9759-4490-f7d9-7f367d34ae5b"
      },
      "source": [
        "group_mfr_shelf = cereal_df.groupby(['mfr','shelf'])['name']  \n",
        "\n",
        "group_mfr_shelf.count()"
      ],
      "execution_count": null,
      "outputs": [
        {
          "output_type": "execute_result",
          "data": {
            "text/plain": [
              "mfr  shelf\n",
              "A    2         1\n",
              "G    1         6\n",
              "     2         7\n",
              "     3         9\n",
              "K    1         4\n",
              "     2         7\n",
              "     3        12\n",
              "N    1         3\n",
              "     2         2\n",
              "     3         1\n",
              "P    1         2\n",
              "     2         1\n",
              "     3         6\n",
              "Q    1         1\n",
              "     2         3\n",
              "     3         4\n",
              "R    1         4\n",
              "     3         4\n",
              "Name: name, dtype: int64"
            ]
          },
          "metadata": {
            "tags": []
          },
          "execution_count": 42
        }
      ]
    },
    {
      "cell_type": "code",
      "metadata": {
        "id": "sdpTSqyGfbI3",
        "colab": {
          "base_uri": "https://localhost:8080/"
        },
        "outputId": "b56bdc47-33e1-48ba-92e7-ccc557ed6cc0"
      },
      "source": [
        "cereal_df.groupby('mfr')"
      ],
      "execution_count": null,
      "outputs": [
        {
          "output_type": "execute_result",
          "data": {
            "text/plain": [
              "<pandas.core.groupby.generic.DataFrameGroupBy object at 0x7f15d78a52d0>"
            ]
          },
          "metadata": {
            "tags": []
          },
          "execution_count": 43
        }
      ]
    },
    {
      "cell_type": "code",
      "metadata": {
        "id": "W6QimQ9JfcxM",
        "colab": {
          "base_uri": "https://localhost:8080/"
        },
        "outputId": "63b1bcec-a604-466c-93a3-d894189edcba"
      },
      "source": [
        "cereal_df.groupby('mfr')['name']"
      ],
      "execution_count": null,
      "outputs": [
        {
          "output_type": "execute_result",
          "data": {
            "text/plain": [
              "<pandas.core.groupby.generic.SeriesGroupBy object at 0x7f15d78a8490>"
            ]
          },
          "metadata": {
            "tags": []
          },
          "execution_count": 44
        }
      ]
    },
    {
      "cell_type": "code",
      "metadata": {
        "id": "nPUJqCLFfe1q",
        "colab": {
          "base_uri": "https://localhost:8080/"
        },
        "outputId": "c372d6f1-d02e-42dd-aac4-87250d02600d"
      },
      "source": [
        "cereal_df.groupby('mfr')['name'].count()"
      ],
      "execution_count": null,
      "outputs": [
        {
          "output_type": "execute_result",
          "data": {
            "text/plain": [
              "mfr\n",
              "A     1\n",
              "G    22\n",
              "K    23\n",
              "N     6\n",
              "P     9\n",
              "Q     8\n",
              "R     8\n",
              "Name: name, dtype: int64"
            ]
          },
          "metadata": {
            "tags": []
          },
          "execution_count": 45
        }
      ]
    },
    {
      "cell_type": "code",
      "metadata": {
        "id": "fae4UtergQde",
        "colab": {
          "base_uri": "https://localhost:8080/"
        },
        "outputId": "cd97512a-bd76-432e-c943-933137eb17d6"
      },
      "source": [
        "print(\"group of mfr='P' contains these cereals\")\n",
        "cereal_df['name'][cereal_df['mfr'] == 'P']\n",
        "\n",
        "print(\"group of mfr='Q' contains these cereals\")\n",
        "cereal_df['name'][cereal_df['mfr'] == 'Q']"
      ],
      "execution_count": null,
      "outputs": [
        {
          "output_type": "stream",
          "text": [
            "group of mfr='P' contains these cereals\n",
            "group of mfr='Q' contains these cereals\n"
          ],
          "name": "stdout"
        },
        {
          "output_type": "execute_result",
          "data": {
            "text/plain": [
              "1      100% Natural Bran\n",
              "10          Cap'n'Crunch\n",
              "35      Honey Graham Ohs\n",
              "41                  Life\n",
              "54           Puffed Rice\n",
              "55          Puffed Wheat\n",
              "56    Quaker Oat Squares\n",
              "57        Quaker Oatmeal\n",
              "Name: name, dtype: object"
            ]
          },
          "metadata": {
            "tags": []
          },
          "execution_count": 46
        }
      ]
    },
    {
      "cell_type": "code",
      "metadata": {
        "id": "vob5KTi8gS69",
        "colab": {
          "base_uri": "https://localhost:8080/"
        },
        "outputId": "cac86c80-d1a4-48bd-e49e-cf4a5827d600"
      },
      "source": [
        "print('count')\n",
        "cereal_df.groupby('mfr').count()\n",
        "print('first')\n",
        "cereal_df.groupby('mfr').first()\n",
        "print('last')\n",
        "cereal_df.groupby('mfr').last()\n",
        "\n",
        "print('first and last - as per alphabetical sorting of names for a group')"
      ],
      "execution_count": null,
      "outputs": [
        {
          "output_type": "stream",
          "text": [
            "count\n",
            "first\n",
            "last\n",
            "first and last - as per alphabetical sorting of names for a group\n"
          ],
          "name": "stdout"
        }
      ]
    },
    {
      "cell_type": "code",
      "metadata": {
        "id": "gxOmYjlBggGj",
        "colab": {
          "base_uri": "https://localhost:8080/",
          "height": 377
        },
        "outputId": "27be7a94-422b-4067-f2a7-f16f52498ded"
      },
      "source": [
        "cereal_df.groupby('mfr').describe()"
      ],
      "execution_count": null,
      "outputs": [
        {
          "output_type": "execute_result",
          "data": {
            "text/html": [
              "<div>\n",
              "<style scoped>\n",
              "    .dataframe tbody tr th:only-of-type {\n",
              "        vertical-align: middle;\n",
              "    }\n",
              "\n",
              "    .dataframe tbody tr th {\n",
              "        vertical-align: top;\n",
              "    }\n",
              "\n",
              "    .dataframe thead tr th {\n",
              "        text-align: left;\n",
              "    }\n",
              "\n",
              "    .dataframe thead tr:last-of-type th {\n",
              "        text-align: right;\n",
              "    }\n",
              "</style>\n",
              "<table border=\"1\" class=\"dataframe\">\n",
              "  <thead>\n",
              "    <tr>\n",
              "      <th></th>\n",
              "      <th colspan=\"8\" halign=\"left\">calories</th>\n",
              "      <th colspan=\"8\" halign=\"left\">protein</th>\n",
              "      <th colspan=\"8\" halign=\"left\">fat</th>\n",
              "      <th colspan=\"8\" halign=\"left\">sodium</th>\n",
              "      <th colspan=\"8\" halign=\"left\">fiber</th>\n",
              "      <th>...</th>\n",
              "      <th colspan=\"8\" halign=\"left\">vitamins</th>\n",
              "      <th colspan=\"8\" halign=\"left\">shelf</th>\n",
              "      <th colspan=\"8\" halign=\"left\">weight</th>\n",
              "      <th colspan=\"8\" halign=\"left\">cups</th>\n",
              "      <th colspan=\"8\" halign=\"left\">rating</th>\n",
              "    </tr>\n",
              "    <tr>\n",
              "      <th></th>\n",
              "      <th>count</th>\n",
              "      <th>mean</th>\n",
              "      <th>std</th>\n",
              "      <th>min</th>\n",
              "      <th>25%</th>\n",
              "      <th>50%</th>\n",
              "      <th>75%</th>\n",
              "      <th>max</th>\n",
              "      <th>count</th>\n",
              "      <th>mean</th>\n",
              "      <th>std</th>\n",
              "      <th>min</th>\n",
              "      <th>25%</th>\n",
              "      <th>50%</th>\n",
              "      <th>75%</th>\n",
              "      <th>max</th>\n",
              "      <th>count</th>\n",
              "      <th>mean</th>\n",
              "      <th>std</th>\n",
              "      <th>min</th>\n",
              "      <th>25%</th>\n",
              "      <th>50%</th>\n",
              "      <th>75%</th>\n",
              "      <th>max</th>\n",
              "      <th>count</th>\n",
              "      <th>mean</th>\n",
              "      <th>std</th>\n",
              "      <th>min</th>\n",
              "      <th>25%</th>\n",
              "      <th>50%</th>\n",
              "      <th>75%</th>\n",
              "      <th>max</th>\n",
              "      <th>count</th>\n",
              "      <th>mean</th>\n",
              "      <th>std</th>\n",
              "      <th>min</th>\n",
              "      <th>25%</th>\n",
              "      <th>50%</th>\n",
              "      <th>75%</th>\n",
              "      <th>max</th>\n",
              "      <th>...</th>\n",
              "      <th>count</th>\n",
              "      <th>mean</th>\n",
              "      <th>std</th>\n",
              "      <th>min</th>\n",
              "      <th>25%</th>\n",
              "      <th>50%</th>\n",
              "      <th>75%</th>\n",
              "      <th>max</th>\n",
              "      <th>count</th>\n",
              "      <th>mean</th>\n",
              "      <th>std</th>\n",
              "      <th>min</th>\n",
              "      <th>25%</th>\n",
              "      <th>50%</th>\n",
              "      <th>75%</th>\n",
              "      <th>max</th>\n",
              "      <th>count</th>\n",
              "      <th>mean</th>\n",
              "      <th>std</th>\n",
              "      <th>min</th>\n",
              "      <th>25%</th>\n",
              "      <th>50%</th>\n",
              "      <th>75%</th>\n",
              "      <th>max</th>\n",
              "      <th>count</th>\n",
              "      <th>mean</th>\n",
              "      <th>std</th>\n",
              "      <th>min</th>\n",
              "      <th>25%</th>\n",
              "      <th>50%</th>\n",
              "      <th>75%</th>\n",
              "      <th>max</th>\n",
              "      <th>count</th>\n",
              "      <th>mean</th>\n",
              "      <th>std</th>\n",
              "      <th>min</th>\n",
              "      <th>25%</th>\n",
              "      <th>50%</th>\n",
              "      <th>75%</th>\n",
              "      <th>max</th>\n",
              "    </tr>\n",
              "    <tr>\n",
              "      <th>mfr</th>\n",
              "      <th></th>\n",
              "      <th></th>\n",
              "      <th></th>\n",
              "      <th></th>\n",
              "      <th></th>\n",
              "      <th></th>\n",
              "      <th></th>\n",
              "      <th></th>\n",
              "      <th></th>\n",
              "      <th></th>\n",
              "      <th></th>\n",
              "      <th></th>\n",
              "      <th></th>\n",
              "      <th></th>\n",
              "      <th></th>\n",
              "      <th></th>\n",
              "      <th></th>\n",
              "      <th></th>\n",
              "      <th></th>\n",
              "      <th></th>\n",
              "      <th></th>\n",
              "      <th></th>\n",
              "      <th></th>\n",
              "      <th></th>\n",
              "      <th></th>\n",
              "      <th></th>\n",
              "      <th></th>\n",
              "      <th></th>\n",
              "      <th></th>\n",
              "      <th></th>\n",
              "      <th></th>\n",
              "      <th></th>\n",
              "      <th></th>\n",
              "      <th></th>\n",
              "      <th></th>\n",
              "      <th></th>\n",
              "      <th></th>\n",
              "      <th></th>\n",
              "      <th></th>\n",
              "      <th></th>\n",
              "      <th></th>\n",
              "      <th></th>\n",
              "      <th></th>\n",
              "      <th></th>\n",
              "      <th></th>\n",
              "      <th></th>\n",
              "      <th></th>\n",
              "      <th></th>\n",
              "      <th></th>\n",
              "      <th></th>\n",
              "      <th></th>\n",
              "      <th></th>\n",
              "      <th></th>\n",
              "      <th></th>\n",
              "      <th></th>\n",
              "      <th></th>\n",
              "      <th></th>\n",
              "      <th></th>\n",
              "      <th></th>\n",
              "      <th></th>\n",
              "      <th></th>\n",
              "      <th></th>\n",
              "      <th></th>\n",
              "      <th></th>\n",
              "      <th></th>\n",
              "      <th></th>\n",
              "      <th></th>\n",
              "      <th></th>\n",
              "      <th></th>\n",
              "      <th></th>\n",
              "      <th></th>\n",
              "      <th></th>\n",
              "      <th></th>\n",
              "      <th></th>\n",
              "      <th></th>\n",
              "      <th></th>\n",
              "      <th></th>\n",
              "      <th></th>\n",
              "      <th></th>\n",
              "      <th></th>\n",
              "      <th></th>\n",
              "    </tr>\n",
              "  </thead>\n",
              "  <tbody>\n",
              "    <tr>\n",
              "      <th>A</th>\n",
              "      <td>1.0</td>\n",
              "      <td>100.000000</td>\n",
              "      <td>NaN</td>\n",
              "      <td>100.0</td>\n",
              "      <td>100.0</td>\n",
              "      <td>100.0</td>\n",
              "      <td>100.0</td>\n",
              "      <td>100.0</td>\n",
              "      <td>1.0</td>\n",
              "      <td>4.000000</td>\n",
              "      <td>NaN</td>\n",
              "      <td>4.0</td>\n",
              "      <td>4.00</td>\n",
              "      <td>4.0</td>\n",
              "      <td>4.00</td>\n",
              "      <td>4.0</td>\n",
              "      <td>1.0</td>\n",
              "      <td>1.000000</td>\n",
              "      <td>NaN</td>\n",
              "      <td>1.0</td>\n",
              "      <td>1.00</td>\n",
              "      <td>1.0</td>\n",
              "      <td>1.00</td>\n",
              "      <td>1.0</td>\n",
              "      <td>1.0</td>\n",
              "      <td>0.000000</td>\n",
              "      <td>NaN</td>\n",
              "      <td>0.0</td>\n",
              "      <td>0.0</td>\n",
              "      <td>0.0</td>\n",
              "      <td>0.00</td>\n",
              "      <td>0.0</td>\n",
              "      <td>1.0</td>\n",
              "      <td>0.000000</td>\n",
              "      <td>NaN</td>\n",
              "      <td>0.0</td>\n",
              "      <td>0.00</td>\n",
              "      <td>0.0</td>\n",
              "      <td>0.00</td>\n",
              "      <td>0.0</td>\n",
              "      <td>...</td>\n",
              "      <td>1.0</td>\n",
              "      <td>25.000000</td>\n",
              "      <td>NaN</td>\n",
              "      <td>25.0</td>\n",
              "      <td>25.0</td>\n",
              "      <td>25.0</td>\n",
              "      <td>25.00</td>\n",
              "      <td>25.0</td>\n",
              "      <td>1.0</td>\n",
              "      <td>2.000000</td>\n",
              "      <td>NaN</td>\n",
              "      <td>2.0</td>\n",
              "      <td>2.00</td>\n",
              "      <td>2.0</td>\n",
              "      <td>2.0</td>\n",
              "      <td>2.0</td>\n",
              "      <td>1.0</td>\n",
              "      <td>1.000000</td>\n",
              "      <td>NaN</td>\n",
              "      <td>1.00</td>\n",
              "      <td>1.000</td>\n",
              "      <td>1.0</td>\n",
              "      <td>1.0</td>\n",
              "      <td>1.00</td>\n",
              "      <td>1.0</td>\n",
              "      <td>1.000000</td>\n",
              "      <td>NaN</td>\n",
              "      <td>1.00</td>\n",
              "      <td>1.00</td>\n",
              "      <td>1.000</td>\n",
              "      <td>1.00</td>\n",
              "      <td>1.00</td>\n",
              "      <td>1.0</td>\n",
              "      <td>54.850917</td>\n",
              "      <td>NaN</td>\n",
              "      <td>54.850917</td>\n",
              "      <td>54.850917</td>\n",
              "      <td>54.850917</td>\n",
              "      <td>54.850917</td>\n",
              "      <td>54.850917</td>\n",
              "    </tr>\n",
              "    <tr>\n",
              "      <th>G</th>\n",
              "      <td>22.0</td>\n",
              "      <td>111.363636</td>\n",
              "      <td>10.371873</td>\n",
              "      <td>100.0</td>\n",
              "      <td>110.0</td>\n",
              "      <td>110.0</td>\n",
              "      <td>110.0</td>\n",
              "      <td>140.0</td>\n",
              "      <td>22.0</td>\n",
              "      <td>2.318182</td>\n",
              "      <td>1.129111</td>\n",
              "      <td>1.0</td>\n",
              "      <td>2.00</td>\n",
              "      <td>2.0</td>\n",
              "      <td>3.00</td>\n",
              "      <td>6.0</td>\n",
              "      <td>22.0</td>\n",
              "      <td>1.363636</td>\n",
              "      <td>0.581087</td>\n",
              "      <td>1.0</td>\n",
              "      <td>1.00</td>\n",
              "      <td>1.0</td>\n",
              "      <td>2.00</td>\n",
              "      <td>3.0</td>\n",
              "      <td>22.0</td>\n",
              "      <td>200.454545</td>\n",
              "      <td>44.021345</td>\n",
              "      <td>140.0</td>\n",
              "      <td>180.0</td>\n",
              "      <td>200.0</td>\n",
              "      <td>217.50</td>\n",
              "      <td>290.0</td>\n",
              "      <td>22.0</td>\n",
              "      <td>1.272727</td>\n",
              "      <td>1.241421</td>\n",
              "      <td>0.0</td>\n",
              "      <td>0.00</td>\n",
              "      <td>1.5</td>\n",
              "      <td>2.00</td>\n",
              "      <td>4.0</td>\n",
              "      <td>...</td>\n",
              "      <td>22.0</td>\n",
              "      <td>35.227273</td>\n",
              "      <td>26.343756</td>\n",
              "      <td>25.0</td>\n",
              "      <td>25.0</td>\n",
              "      <td>25.0</td>\n",
              "      <td>25.00</td>\n",
              "      <td>100.0</td>\n",
              "      <td>22.0</td>\n",
              "      <td>2.136364</td>\n",
              "      <td>0.833550</td>\n",
              "      <td>1.0</td>\n",
              "      <td>1.25</td>\n",
              "      <td>2.0</td>\n",
              "      <td>3.0</td>\n",
              "      <td>3.0</td>\n",
              "      <td>22.0</td>\n",
              "      <td>1.049091</td>\n",
              "      <td>0.132446</td>\n",
              "      <td>1.00</td>\n",
              "      <td>1.000</td>\n",
              "      <td>1.0</td>\n",
              "      <td>1.0</td>\n",
              "      <td>1.50</td>\n",
              "      <td>22.0</td>\n",
              "      <td>0.875000</td>\n",
              "      <td>0.240906</td>\n",
              "      <td>0.50</td>\n",
              "      <td>0.75</td>\n",
              "      <td>0.875</td>\n",
              "      <td>1.00</td>\n",
              "      <td>1.50</td>\n",
              "      <td>22.0</td>\n",
              "      <td>34.485852</td>\n",
              "      <td>8.946704</td>\n",
              "      <td>19.823573</td>\n",
              "      <td>27.963172</td>\n",
              "      <td>36.181877</td>\n",
              "      <td>39.587829</td>\n",
              "      <td>51.592193</td>\n",
              "    </tr>\n",
              "    <tr>\n",
              "      <th>K</th>\n",
              "      <td>23.0</td>\n",
              "      <td>108.695652</td>\n",
              "      <td>22.218818</td>\n",
              "      <td>50.0</td>\n",
              "      <td>100.0</td>\n",
              "      <td>110.0</td>\n",
              "      <td>115.0</td>\n",
              "      <td>160.0</td>\n",
              "      <td>23.0</td>\n",
              "      <td>2.652174</td>\n",
              "      <td>1.070628</td>\n",
              "      <td>1.0</td>\n",
              "      <td>2.00</td>\n",
              "      <td>3.0</td>\n",
              "      <td>3.00</td>\n",
              "      <td>6.0</td>\n",
              "      <td>23.0</td>\n",
              "      <td>0.608696</td>\n",
              "      <td>0.838783</td>\n",
              "      <td>0.0</td>\n",
              "      <td>0.00</td>\n",
              "      <td>0.0</td>\n",
              "      <td>1.00</td>\n",
              "      <td>3.0</td>\n",
              "      <td>23.0</td>\n",
              "      <td>174.782609</td>\n",
              "      <td>84.132988</td>\n",
              "      <td>0.0</td>\n",
              "      <td>132.5</td>\n",
              "      <td>170.0</td>\n",
              "      <td>225.00</td>\n",
              "      <td>320.0</td>\n",
              "      <td>23.0</td>\n",
              "      <td>2.739130</td>\n",
              "      <td>3.193991</td>\n",
              "      <td>0.0</td>\n",
              "      <td>1.00</td>\n",
              "      <td>1.0</td>\n",
              "      <td>3.00</td>\n",
              "      <td>14.0</td>\n",
              "      <td>...</td>\n",
              "      <td>23.0</td>\n",
              "      <td>34.782609</td>\n",
              "      <td>25.826267</td>\n",
              "      <td>25.0</td>\n",
              "      <td>25.0</td>\n",
              "      <td>25.0</td>\n",
              "      <td>25.00</td>\n",
              "      <td>100.0</td>\n",
              "      <td>23.0</td>\n",
              "      <td>2.347826</td>\n",
              "      <td>0.775107</td>\n",
              "      <td>1.0</td>\n",
              "      <td>2.00</td>\n",
              "      <td>3.0</td>\n",
              "      <td>3.0</td>\n",
              "      <td>3.0</td>\n",
              "      <td>23.0</td>\n",
              "      <td>1.077826</td>\n",
              "      <td>0.154830</td>\n",
              "      <td>1.00</td>\n",
              "      <td>1.000</td>\n",
              "      <td>1.0</td>\n",
              "      <td>1.0</td>\n",
              "      <td>1.50</td>\n",
              "      <td>23.0</td>\n",
              "      <td>0.796087</td>\n",
              "      <td>0.209778</td>\n",
              "      <td>0.33</td>\n",
              "      <td>0.67</td>\n",
              "      <td>0.750</td>\n",
              "      <td>1.00</td>\n",
              "      <td>1.00</td>\n",
              "      <td>23.0</td>\n",
              "      <td>44.038462</td>\n",
              "      <td>14.457434</td>\n",
              "      <td>29.924285</td>\n",
              "      <td>34.478442</td>\n",
              "      <td>40.560159</td>\n",
              "      <td>50.013484</td>\n",
              "      <td>93.704912</td>\n",
              "    </tr>\n",
              "    <tr>\n",
              "      <th>N</th>\n",
              "      <td>6.0</td>\n",
              "      <td>86.666667</td>\n",
              "      <td>10.327956</td>\n",
              "      <td>70.0</td>\n",
              "      <td>82.5</td>\n",
              "      <td>90.0</td>\n",
              "      <td>90.0</td>\n",
              "      <td>100.0</td>\n",
              "      <td>6.0</td>\n",
              "      <td>2.833333</td>\n",
              "      <td>0.752773</td>\n",
              "      <td>2.0</td>\n",
              "      <td>2.25</td>\n",
              "      <td>3.0</td>\n",
              "      <td>3.00</td>\n",
              "      <td>4.0</td>\n",
              "      <td>6.0</td>\n",
              "      <td>0.166667</td>\n",
              "      <td>0.408248</td>\n",
              "      <td>0.0</td>\n",
              "      <td>0.00</td>\n",
              "      <td>0.0</td>\n",
              "      <td>0.00</td>\n",
              "      <td>1.0</td>\n",
              "      <td>6.0</td>\n",
              "      <td>37.500000</td>\n",
              "      <td>54.931776</td>\n",
              "      <td>0.0</td>\n",
              "      <td>0.0</td>\n",
              "      <td>7.5</td>\n",
              "      <td>63.75</td>\n",
              "      <td>130.0</td>\n",
              "      <td>6.0</td>\n",
              "      <td>4.000000</td>\n",
              "      <td>3.098387</td>\n",
              "      <td>1.0</td>\n",
              "      <td>3.00</td>\n",
              "      <td>3.0</td>\n",
              "      <td>3.75</td>\n",
              "      <td>10.0</td>\n",
              "      <td>...</td>\n",
              "      <td>6.0</td>\n",
              "      <td>8.333333</td>\n",
              "      <td>12.909944</td>\n",
              "      <td>0.0</td>\n",
              "      <td>0.0</td>\n",
              "      <td>0.0</td>\n",
              "      <td>18.75</td>\n",
              "      <td>25.0</td>\n",
              "      <td>6.0</td>\n",
              "      <td>1.666667</td>\n",
              "      <td>0.816497</td>\n",
              "      <td>1.0</td>\n",
              "      <td>1.00</td>\n",
              "      <td>1.5</td>\n",
              "      <td>2.0</td>\n",
              "      <td>3.0</td>\n",
              "      <td>6.0</td>\n",
              "      <td>0.971667</td>\n",
              "      <td>0.069402</td>\n",
              "      <td>0.83</td>\n",
              "      <td>1.000</td>\n",
              "      <td>1.0</td>\n",
              "      <td>1.0</td>\n",
              "      <td>1.00</td>\n",
              "      <td>6.0</td>\n",
              "      <td>0.778333</td>\n",
              "      <td>0.272721</td>\n",
              "      <td>0.33</td>\n",
              "      <td>0.67</td>\n",
              "      <td>0.835</td>\n",
              "      <td>1.00</td>\n",
              "      <td>1.00</td>\n",
              "      <td>6.0</td>\n",
              "      <td>67.968567</td>\n",
              "      <td>5.509326</td>\n",
              "      <td>59.363993</td>\n",
              "      <td>65.459333</td>\n",
              "      <td>68.319429</td>\n",
              "      <td>71.702084</td>\n",
              "      <td>74.472949</td>\n",
              "    </tr>\n",
              "    <tr>\n",
              "      <th>P</th>\n",
              "      <td>9.0</td>\n",
              "      <td>108.888889</td>\n",
              "      <td>10.540926</td>\n",
              "      <td>90.0</td>\n",
              "      <td>100.0</td>\n",
              "      <td>110.0</td>\n",
              "      <td>120.0</td>\n",
              "      <td>120.0</td>\n",
              "      <td>9.0</td>\n",
              "      <td>2.444444</td>\n",
              "      <td>0.881917</td>\n",
              "      <td>1.0</td>\n",
              "      <td>2.00</td>\n",
              "      <td>3.0</td>\n",
              "      <td>3.00</td>\n",
              "      <td>3.0</td>\n",
              "      <td>9.0</td>\n",
              "      <td>0.888889</td>\n",
              "      <td>1.054093</td>\n",
              "      <td>0.0</td>\n",
              "      <td>0.00</td>\n",
              "      <td>1.0</td>\n",
              "      <td>1.00</td>\n",
              "      <td>3.0</td>\n",
              "      <td>9.0</td>\n",
              "      <td>146.111111</td>\n",
              "      <td>55.157602</td>\n",
              "      <td>45.0</td>\n",
              "      <td>135.0</td>\n",
              "      <td>160.0</td>\n",
              "      <td>180.00</td>\n",
              "      <td>210.0</td>\n",
              "      <td>9.0</td>\n",
              "      <td>2.777778</td>\n",
              "      <td>2.333333</td>\n",
              "      <td>0.0</td>\n",
              "      <td>0.00</td>\n",
              "      <td>3.0</td>\n",
              "      <td>5.00</td>\n",
              "      <td>6.0</td>\n",
              "      <td>...</td>\n",
              "      <td>9.0</td>\n",
              "      <td>25.000000</td>\n",
              "      <td>0.000000</td>\n",
              "      <td>25.0</td>\n",
              "      <td>25.0</td>\n",
              "      <td>25.0</td>\n",
              "      <td>25.00</td>\n",
              "      <td>25.0</td>\n",
              "      <td>9.0</td>\n",
              "      <td>2.444444</td>\n",
              "      <td>0.881917</td>\n",
              "      <td>1.0</td>\n",
              "      <td>2.00</td>\n",
              "      <td>3.0</td>\n",
              "      <td>3.0</td>\n",
              "      <td>3.0</td>\n",
              "      <td>9.0</td>\n",
              "      <td>1.064444</td>\n",
              "      <td>0.129433</td>\n",
              "      <td>1.00</td>\n",
              "      <td>1.000</td>\n",
              "      <td>1.0</td>\n",
              "      <td>1.0</td>\n",
              "      <td>1.33</td>\n",
              "      <td>9.0</td>\n",
              "      <td>0.714444</td>\n",
              "      <td>0.317101</td>\n",
              "      <td>0.25</td>\n",
              "      <td>0.67</td>\n",
              "      <td>0.670</td>\n",
              "      <td>0.88</td>\n",
              "      <td>1.33</td>\n",
              "      <td>9.0</td>\n",
              "      <td>41.705744</td>\n",
              "      <td>10.047647</td>\n",
              "      <td>28.025765</td>\n",
              "      <td>35.252444</td>\n",
              "      <td>40.917047</td>\n",
              "      <td>52.076897</td>\n",
              "      <td>53.371007</td>\n",
              "    </tr>\n",
              "    <tr>\n",
              "      <th>Q</th>\n",
              "      <td>8.0</td>\n",
              "      <td>95.000000</td>\n",
              "      <td>29.277002</td>\n",
              "      <td>50.0</td>\n",
              "      <td>87.5</td>\n",
              "      <td>100.0</td>\n",
              "      <td>120.0</td>\n",
              "      <td>120.0</td>\n",
              "      <td>8.0</td>\n",
              "      <td>2.625000</td>\n",
              "      <td>1.597990</td>\n",
              "      <td>1.0</td>\n",
              "      <td>1.00</td>\n",
              "      <td>2.5</td>\n",
              "      <td>4.00</td>\n",
              "      <td>5.0</td>\n",
              "      <td>8.0</td>\n",
              "      <td>1.750000</td>\n",
              "      <td>1.581139</td>\n",
              "      <td>0.0</td>\n",
              "      <td>0.75</td>\n",
              "      <td>2.0</td>\n",
              "      <td>2.00</td>\n",
              "      <td>5.0</td>\n",
              "      <td>8.0</td>\n",
              "      <td>92.500000</td>\n",
              "      <td>99.498744</td>\n",
              "      <td>0.0</td>\n",
              "      <td>0.0</td>\n",
              "      <td>75.0</td>\n",
              "      <td>167.50</td>\n",
              "      <td>220.0</td>\n",
              "      <td>8.0</td>\n",
              "      <td>1.337500</td>\n",
              "      <td>0.998481</td>\n",
              "      <td>0.0</td>\n",
              "      <td>0.75</td>\n",
              "      <td>1.5</td>\n",
              "      <td>2.00</td>\n",
              "      <td>2.7</td>\n",
              "      <td>...</td>\n",
              "      <td>8.0</td>\n",
              "      <td>12.500000</td>\n",
              "      <td>13.363062</td>\n",
              "      <td>0.0</td>\n",
              "      <td>0.0</td>\n",
              "      <td>12.5</td>\n",
              "      <td>25.00</td>\n",
              "      <td>25.0</td>\n",
              "      <td>8.0</td>\n",
              "      <td>2.375000</td>\n",
              "      <td>0.744024</td>\n",
              "      <td>1.0</td>\n",
              "      <td>2.00</td>\n",
              "      <td>2.5</td>\n",
              "      <td>3.0</td>\n",
              "      <td>3.0</td>\n",
              "      <td>8.0</td>\n",
              "      <td>0.875000</td>\n",
              "      <td>0.231455</td>\n",
              "      <td>0.50</td>\n",
              "      <td>0.875</td>\n",
              "      <td>1.0</td>\n",
              "      <td>1.0</td>\n",
              "      <td>1.00</td>\n",
              "      <td>8.0</td>\n",
              "      <td>0.823750</td>\n",
              "      <td>0.200637</td>\n",
              "      <td>0.50</td>\n",
              "      <td>0.67</td>\n",
              "      <td>0.875</td>\n",
              "      <td>1.00</td>\n",
              "      <td>1.00</td>\n",
              "      <td>8.0</td>\n",
              "      <td>42.915990</td>\n",
              "      <td>16.797673</td>\n",
              "      <td>18.042851</td>\n",
              "      <td>30.955582</td>\n",
              "      <td>47.419974</td>\n",
              "      <td>53.310322</td>\n",
              "      <td>63.005645</td>\n",
              "    </tr>\n",
              "    <tr>\n",
              "      <th>R</th>\n",
              "      <td>8.0</td>\n",
              "      <td>115.000000</td>\n",
              "      <td>22.677868</td>\n",
              "      <td>90.0</td>\n",
              "      <td>100.0</td>\n",
              "      <td>110.0</td>\n",
              "      <td>120.0</td>\n",
              "      <td>150.0</td>\n",
              "      <td>8.0</td>\n",
              "      <td>2.500000</td>\n",
              "      <td>1.069045</td>\n",
              "      <td>1.0</td>\n",
              "      <td>2.00</td>\n",
              "      <td>2.0</td>\n",
              "      <td>3.25</td>\n",
              "      <td>4.0</td>\n",
              "      <td>8.0</td>\n",
              "      <td>1.250000</td>\n",
              "      <td>1.281740</td>\n",
              "      <td>0.0</td>\n",
              "      <td>0.00</td>\n",
              "      <td>1.0</td>\n",
              "      <td>2.25</td>\n",
              "      <td>3.0</td>\n",
              "      <td>8.0</td>\n",
              "      <td>198.125000</td>\n",
              "      <td>56.690734</td>\n",
              "      <td>95.0</td>\n",
              "      <td>180.0</td>\n",
              "      <td>200.0</td>\n",
              "      <td>232.50</td>\n",
              "      <td>280.0</td>\n",
              "      <td>8.0</td>\n",
              "      <td>1.875000</td>\n",
              "      <td>1.552648</td>\n",
              "      <td>0.0</td>\n",
              "      <td>0.75</td>\n",
              "      <td>2.0</td>\n",
              "      <td>3.00</td>\n",
              "      <td>4.0</td>\n",
              "      <td>...</td>\n",
              "      <td>8.0</td>\n",
              "      <td>25.000000</td>\n",
              "      <td>0.000000</td>\n",
              "      <td>25.0</td>\n",
              "      <td>25.0</td>\n",
              "      <td>25.0</td>\n",
              "      <td>25.00</td>\n",
              "      <td>25.0</td>\n",
              "      <td>8.0</td>\n",
              "      <td>2.000000</td>\n",
              "      <td>1.069045</td>\n",
              "      <td>1.0</td>\n",
              "      <td>1.00</td>\n",
              "      <td>2.0</td>\n",
              "      <td>3.0</td>\n",
              "      <td>3.0</td>\n",
              "      <td>8.0</td>\n",
              "      <td>1.000000</td>\n",
              "      <td>0.000000</td>\n",
              "      <td>1.00</td>\n",
              "      <td>1.000</td>\n",
              "      <td>1.0</td>\n",
              "      <td>1.0</td>\n",
              "      <td>1.00</td>\n",
              "      <td>8.0</td>\n",
              "      <td>0.871250</td>\n",
              "      <td>0.180114</td>\n",
              "      <td>0.67</td>\n",
              "      <td>0.73</td>\n",
              "      <td>0.875</td>\n",
              "      <td>1.00</td>\n",
              "      <td>1.13</td>\n",
              "      <td>8.0</td>\n",
              "      <td>41.542997</td>\n",
              "      <td>6.080841</td>\n",
              "      <td>34.139765</td>\n",
              "      <td>36.448858</td>\n",
              "      <td>41.721976</td>\n",
              "      <td>45.528205</td>\n",
              "      <td>49.787445</td>\n",
              "    </tr>\n",
              "  </tbody>\n",
              "</table>\n",
              "<p>7 rows × 104 columns</p>\n",
              "</div>"
            ],
            "text/plain": [
              "    calories                         ...     rating                      \n",
              "       count        mean        std  ...        50%        75%        max\n",
              "mfr                                  ...                                 \n",
              "A        1.0  100.000000        NaN  ...  54.850917  54.850917  54.850917\n",
              "G       22.0  111.363636  10.371873  ...  36.181877  39.587829  51.592193\n",
              "K       23.0  108.695652  22.218818  ...  40.560159  50.013484  93.704912\n",
              "N        6.0   86.666667  10.327956  ...  68.319429  71.702084  74.472949\n",
              "P        9.0  108.888889  10.540926  ...  40.917047  52.076897  53.371007\n",
              "Q        8.0   95.000000  29.277002  ...  47.419974  53.310322  63.005645\n",
              "R        8.0  115.000000  22.677868  ...  41.721976  45.528205  49.787445\n",
              "\n",
              "[7 rows x 104 columns]"
            ]
          },
          "metadata": {
            "tags": []
          },
          "execution_count": 48
        }
      ]
    },
    {
      "cell_type": "code",
      "metadata": {
        "id": "77yDzhIdgiom",
        "colab": {
          "base_uri": "https://localhost:8080/"
        },
        "outputId": "e6931dc7-4501-4da5-c077-1beb9a5a3737"
      },
      "source": [
        "cereal_df.groupby('mfr').describe().unstack()"
      ],
      "execution_count": null,
      "outputs": [
        {
          "output_type": "execute_result",
          "data": {
            "text/plain": [
              "                 mfr\n",
              "calories  count  A       1.000000\n",
              "                 G      22.000000\n",
              "                 K      23.000000\n",
              "                 N       6.000000\n",
              "                 P       9.000000\n",
              "                          ...    \n",
              "rating    max    K      93.704912\n",
              "                 N      74.472949\n",
              "                 P      53.371007\n",
              "                 Q      63.005645\n",
              "                 R      49.787445\n",
              "Length: 728, dtype: float64"
            ]
          },
          "metadata": {
            "tags": []
          },
          "execution_count": 49
        }
      ]
    },
    {
      "cell_type": "code",
      "metadata": {
        "id": "HZiM26lVgk-p",
        "colab": {
          "base_uri": "https://localhost:8080/",
          "height": 317
        },
        "outputId": "88165abd-3f26-4bb3-c85b-a2e3de121c14"
      },
      "source": [
        "cereal_df.groupby('mfr').sum()\n",
        "cereal_df.groupby('mfr').mean()\n",
        "cereal_df.groupby('mfr').median()"
      ],
      "execution_count": null,
      "outputs": [
        {
          "output_type": "execute_result",
          "data": {
            "text/html": [
              "<div>\n",
              "<style scoped>\n",
              "    .dataframe tbody tr th:only-of-type {\n",
              "        vertical-align: middle;\n",
              "    }\n",
              "\n",
              "    .dataframe tbody tr th {\n",
              "        vertical-align: top;\n",
              "    }\n",
              "\n",
              "    .dataframe thead th {\n",
              "        text-align: right;\n",
              "    }\n",
              "</style>\n",
              "<table border=\"1\" class=\"dataframe\">\n",
              "  <thead>\n",
              "    <tr style=\"text-align: right;\">\n",
              "      <th></th>\n",
              "      <th>calories</th>\n",
              "      <th>protein</th>\n",
              "      <th>fat</th>\n",
              "      <th>sodium</th>\n",
              "      <th>fiber</th>\n",
              "      <th>carbo</th>\n",
              "      <th>sugars</th>\n",
              "      <th>potass</th>\n",
              "      <th>vitamins</th>\n",
              "      <th>shelf</th>\n",
              "      <th>weight</th>\n",
              "      <th>cups</th>\n",
              "      <th>rating</th>\n",
              "    </tr>\n",
              "    <tr>\n",
              "      <th>mfr</th>\n",
              "      <th></th>\n",
              "      <th></th>\n",
              "      <th></th>\n",
              "      <th></th>\n",
              "      <th></th>\n",
              "      <th></th>\n",
              "      <th></th>\n",
              "      <th></th>\n",
              "      <th></th>\n",
              "      <th></th>\n",
              "      <th></th>\n",
              "      <th></th>\n",
              "      <th></th>\n",
              "    </tr>\n",
              "  </thead>\n",
              "  <tbody>\n",
              "    <tr>\n",
              "      <th>A</th>\n",
              "      <td>100.0</td>\n",
              "      <td>4.0</td>\n",
              "      <td>1.0</td>\n",
              "      <td>0.0</td>\n",
              "      <td>0.0</td>\n",
              "      <td>16.00</td>\n",
              "      <td>3.0</td>\n",
              "      <td>95.0</td>\n",
              "      <td>25.0</td>\n",
              "      <td>2.0</td>\n",
              "      <td>1.0</td>\n",
              "      <td>1.000</td>\n",
              "      <td>54.850917</td>\n",
              "    </tr>\n",
              "    <tr>\n",
              "      <th>G</th>\n",
              "      <td>110.0</td>\n",
              "      <td>2.0</td>\n",
              "      <td>1.0</td>\n",
              "      <td>200.0</td>\n",
              "      <td>1.5</td>\n",
              "      <td>14.25</td>\n",
              "      <td>8.5</td>\n",
              "      <td>80.0</td>\n",
              "      <td>25.0</td>\n",
              "      <td>2.0</td>\n",
              "      <td>1.0</td>\n",
              "      <td>0.875</td>\n",
              "      <td>36.181877</td>\n",
              "    </tr>\n",
              "    <tr>\n",
              "      <th>K</th>\n",
              "      <td>110.0</td>\n",
              "      <td>3.0</td>\n",
              "      <td>0.0</td>\n",
              "      <td>170.0</td>\n",
              "      <td>1.0</td>\n",
              "      <td>15.00</td>\n",
              "      <td>7.0</td>\n",
              "      <td>60.0</td>\n",
              "      <td>25.0</td>\n",
              "      <td>3.0</td>\n",
              "      <td>1.0</td>\n",
              "      <td>0.750</td>\n",
              "      <td>40.560159</td>\n",
              "    </tr>\n",
              "    <tr>\n",
              "      <th>N</th>\n",
              "      <td>90.0</td>\n",
              "      <td>3.0</td>\n",
              "      <td>0.0</td>\n",
              "      <td>7.5</td>\n",
              "      <td>3.0</td>\n",
              "      <td>17.50</td>\n",
              "      <td>0.0</td>\n",
              "      <td>107.5</td>\n",
              "      <td>0.0</td>\n",
              "      <td>1.5</td>\n",
              "      <td>1.0</td>\n",
              "      <td>0.835</td>\n",
              "      <td>68.319429</td>\n",
              "    </tr>\n",
              "    <tr>\n",
              "      <th>P</th>\n",
              "      <td>110.0</td>\n",
              "      <td>3.0</td>\n",
              "      <td>1.0</td>\n",
              "      <td>160.0</td>\n",
              "      <td>3.0</td>\n",
              "      <td>13.00</td>\n",
              "      <td>10.0</td>\n",
              "      <td>90.0</td>\n",
              "      <td>25.0</td>\n",
              "      <td>3.0</td>\n",
              "      <td>1.0</td>\n",
              "      <td>0.670</td>\n",
              "      <td>40.917047</td>\n",
              "    </tr>\n",
              "    <tr>\n",
              "      <th>Q</th>\n",
              "      <td>100.0</td>\n",
              "      <td>2.5</td>\n",
              "      <td>2.0</td>\n",
              "      <td>75.0</td>\n",
              "      <td>1.5</td>\n",
              "      <td>12.00</td>\n",
              "      <td>6.0</td>\n",
              "      <td>72.5</td>\n",
              "      <td>12.5</td>\n",
              "      <td>2.5</td>\n",
              "      <td>1.0</td>\n",
              "      <td>0.875</td>\n",
              "      <td>47.419974</td>\n",
              "    </tr>\n",
              "    <tr>\n",
              "      <th>R</th>\n",
              "      <td>110.0</td>\n",
              "      <td>2.0</td>\n",
              "      <td>1.0</td>\n",
              "      <td>200.0</td>\n",
              "      <td>2.0</td>\n",
              "      <td>16.50</td>\n",
              "      <td>5.5</td>\n",
              "      <td>97.5</td>\n",
              "      <td>25.0</td>\n",
              "      <td>2.0</td>\n",
              "      <td>1.0</td>\n",
              "      <td>0.875</td>\n",
              "      <td>41.721976</td>\n",
              "    </tr>\n",
              "  </tbody>\n",
              "</table>\n",
              "</div>"
            ],
            "text/plain": [
              "     calories  protein  fat  sodium  ...  shelf  weight   cups     rating\n",
              "mfr                                  ...                                 \n",
              "A       100.0      4.0  1.0     0.0  ...    2.0     1.0  1.000  54.850917\n",
              "G       110.0      2.0  1.0   200.0  ...    2.0     1.0  0.875  36.181877\n",
              "K       110.0      3.0  0.0   170.0  ...    3.0     1.0  0.750  40.560159\n",
              "N        90.0      3.0  0.0     7.5  ...    1.5     1.0  0.835  68.319429\n",
              "P       110.0      3.0  1.0   160.0  ...    3.0     1.0  0.670  40.917047\n",
              "Q       100.0      2.5  2.0    75.0  ...    2.5     1.0  0.875  47.419974\n",
              "R       110.0      2.0  1.0   200.0  ...    2.0     1.0  0.875  41.721976\n",
              "\n",
              "[7 rows x 13 columns]"
            ]
          },
          "metadata": {
            "tags": []
          },
          "execution_count": 50
        }
      ]
    },
    {
      "cell_type": "code",
      "metadata": {
        "id": "i8j84Xt5gk4f",
        "colab": {
          "base_uri": "https://localhost:8080/"
        },
        "outputId": "53eece3f-c79e-459c-a883-49e952d84f26"
      },
      "source": [
        "cereal_df.groupby('type')['name']\n",
        "cereal_df.groupby('type')['name'].count()\n",
        "cereal_df.groupby('mfr')['name'].count()\n",
        "cereal_df.groupby('shelf')['name'].count()"
      ],
      "execution_count": null,
      "outputs": [
        {
          "output_type": "execute_result",
          "data": {
            "text/plain": [
              "shelf\n",
              "1    20\n",
              "2    21\n",
              "3    36\n",
              "Name: name, dtype: int64"
            ]
          },
          "metadata": {
            "tags": []
          },
          "execution_count": 51
        }
      ]
    }
  ]
}